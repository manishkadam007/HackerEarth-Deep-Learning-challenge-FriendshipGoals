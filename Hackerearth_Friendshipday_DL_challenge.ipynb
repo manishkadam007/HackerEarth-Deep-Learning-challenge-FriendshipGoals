{
  "nbformat": 4,
  "nbformat_minor": 0,
  "metadata": {
    "colab": {
      "name": "Hackerearth Friendshipday DL challenge.ipynb",
      "provenance": [],
      "collapsed_sections": [],
      "authorship_tag": "ABX9TyOwHKDnfKJTKsrF2TFRn2Wx",
      "include_colab_link": true
    },
    "kernelspec": {
      "name": "python3",
      "display_name": "Python 3"
    },
    "accelerator": "GPU",
    "widgets": {
      "application/vnd.jupyter.widget-state+json": {
        "adbdfe73997c452ab4efa33e510fd22d": {
          "model_module": "@jupyter-widgets/controls",
          "model_name": "HBoxModel",
          "state": {
            "_view_name": "HBoxView",
            "_dom_classes": [],
            "_model_name": "HBoxModel",
            "_view_module": "@jupyter-widgets/controls",
            "_model_module_version": "1.5.0",
            "_view_count": null,
            "_view_module_version": "1.5.0",
            "box_style": "",
            "layout": "IPY_MODEL_e439a22a9fc54d648da1f189e2909519",
            "_model_module": "@jupyter-widgets/controls",
            "children": [
              "IPY_MODEL_3084573f3e5f406b9500147c226ab4ba",
              "IPY_MODEL_7286a4bcc187433ea45b6e0b1935fc88"
            ]
          }
        },
        "e439a22a9fc54d648da1f189e2909519": {
          "model_module": "@jupyter-widgets/base",
          "model_name": "LayoutModel",
          "state": {
            "_view_name": "LayoutView",
            "grid_template_rows": null,
            "right": null,
            "justify_content": null,
            "_view_module": "@jupyter-widgets/base",
            "overflow": null,
            "_model_module_version": "1.2.0",
            "_view_count": null,
            "flex_flow": null,
            "width": null,
            "min_width": null,
            "border": null,
            "align_items": null,
            "bottom": null,
            "_model_module": "@jupyter-widgets/base",
            "top": null,
            "grid_column": null,
            "overflow_y": null,
            "overflow_x": null,
            "grid_auto_flow": null,
            "grid_area": null,
            "grid_template_columns": null,
            "flex": null,
            "_model_name": "LayoutModel",
            "justify_items": null,
            "grid_row": null,
            "max_height": null,
            "align_content": null,
            "visibility": null,
            "align_self": null,
            "height": null,
            "min_height": null,
            "padding": null,
            "grid_auto_rows": null,
            "grid_gap": null,
            "max_width": null,
            "order": null,
            "_view_module_version": "1.2.0",
            "grid_template_areas": null,
            "object_position": null,
            "object_fit": null,
            "grid_auto_columns": null,
            "margin": null,
            "display": null,
            "left": null
          }
        },
        "3084573f3e5f406b9500147c226ab4ba": {
          "model_module": "@jupyter-widgets/controls",
          "model_name": "FloatProgressModel",
          "state": {
            "_view_name": "ProgressView",
            "style": "IPY_MODEL_845d8d71526a4f3ab25e25ca4421d58b",
            "_dom_classes": [],
            "description": "100%",
            "_model_name": "FloatProgressModel",
            "bar_style": "success",
            "max": 102502400,
            "_view_module": "@jupyter-widgets/controls",
            "_model_module_version": "1.5.0",
            "value": 102502400,
            "_view_count": null,
            "_view_module_version": "1.5.0",
            "orientation": "horizontal",
            "min": 0,
            "description_tooltip": null,
            "_model_module": "@jupyter-widgets/controls",
            "layout": "IPY_MODEL_5baf24678d394b5d9e6e921fbd6fd167"
          }
        },
        "7286a4bcc187433ea45b6e0b1935fc88": {
          "model_module": "@jupyter-widgets/controls",
          "model_name": "HTMLModel",
          "state": {
            "_view_name": "HTMLView",
            "style": "IPY_MODEL_34e8c0a78d694694802138184e5d0396",
            "_dom_classes": [],
            "description": "",
            "_model_name": "HTMLModel",
            "placeholder": "​",
            "_view_module": "@jupyter-widgets/controls",
            "_model_module_version": "1.5.0",
            "value": " 97.8M/97.8M [03:08&lt;00:00, 543kB/s]",
            "_view_count": null,
            "_view_module_version": "1.5.0",
            "description_tooltip": null,
            "_model_module": "@jupyter-widgets/controls",
            "layout": "IPY_MODEL_5eca7f84ff7143cabbe2dbd6861afc14"
          }
        },
        "845d8d71526a4f3ab25e25ca4421d58b": {
          "model_module": "@jupyter-widgets/controls",
          "model_name": "ProgressStyleModel",
          "state": {
            "_view_name": "StyleView",
            "_model_name": "ProgressStyleModel",
            "description_width": "initial",
            "_view_module": "@jupyter-widgets/base",
            "_model_module_version": "1.5.0",
            "_view_count": null,
            "_view_module_version": "1.2.0",
            "bar_color": null,
            "_model_module": "@jupyter-widgets/controls"
          }
        },
        "5baf24678d394b5d9e6e921fbd6fd167": {
          "model_module": "@jupyter-widgets/base",
          "model_name": "LayoutModel",
          "state": {
            "_view_name": "LayoutView",
            "grid_template_rows": null,
            "right": null,
            "justify_content": null,
            "_view_module": "@jupyter-widgets/base",
            "overflow": null,
            "_model_module_version": "1.2.0",
            "_view_count": null,
            "flex_flow": null,
            "width": null,
            "min_width": null,
            "border": null,
            "align_items": null,
            "bottom": null,
            "_model_module": "@jupyter-widgets/base",
            "top": null,
            "grid_column": null,
            "overflow_y": null,
            "overflow_x": null,
            "grid_auto_flow": null,
            "grid_area": null,
            "grid_template_columns": null,
            "flex": null,
            "_model_name": "LayoutModel",
            "justify_items": null,
            "grid_row": null,
            "max_height": null,
            "align_content": null,
            "visibility": null,
            "align_self": null,
            "height": null,
            "min_height": null,
            "padding": null,
            "grid_auto_rows": null,
            "grid_gap": null,
            "max_width": null,
            "order": null,
            "_view_module_version": "1.2.0",
            "grid_template_areas": null,
            "object_position": null,
            "object_fit": null,
            "grid_auto_columns": null,
            "margin": null,
            "display": null,
            "left": null
          }
        },
        "34e8c0a78d694694802138184e5d0396": {
          "model_module": "@jupyter-widgets/controls",
          "model_name": "DescriptionStyleModel",
          "state": {
            "_view_name": "StyleView",
            "_model_name": "DescriptionStyleModel",
            "description_width": "",
            "_view_module": "@jupyter-widgets/base",
            "_model_module_version": "1.5.0",
            "_view_count": null,
            "_view_module_version": "1.2.0",
            "_model_module": "@jupyter-widgets/controls"
          }
        },
        "5eca7f84ff7143cabbe2dbd6861afc14": {
          "model_module": "@jupyter-widgets/base",
          "model_name": "LayoutModel",
          "state": {
            "_view_name": "LayoutView",
            "grid_template_rows": null,
            "right": null,
            "justify_content": null,
            "_view_module": "@jupyter-widgets/base",
            "overflow": null,
            "_model_module_version": "1.2.0",
            "_view_count": null,
            "flex_flow": null,
            "width": null,
            "min_width": null,
            "border": null,
            "align_items": null,
            "bottom": null,
            "_model_module": "@jupyter-widgets/base",
            "top": null,
            "grid_column": null,
            "overflow_y": null,
            "overflow_x": null,
            "grid_auto_flow": null,
            "grid_area": null,
            "grid_template_columns": null,
            "flex": null,
            "_model_name": "LayoutModel",
            "justify_items": null,
            "grid_row": null,
            "max_height": null,
            "align_content": null,
            "visibility": null,
            "align_self": null,
            "height": null,
            "min_height": null,
            "padding": null,
            "grid_auto_rows": null,
            "grid_gap": null,
            "max_width": null,
            "order": null,
            "_view_module_version": "1.2.0",
            "grid_template_areas": null,
            "object_position": null,
            "object_fit": null,
            "grid_auto_columns": null,
            "margin": null,
            "display": null,
            "left": null
          }
        }
      }
    }
  },
  "cells": [
    {
      "cell_type": "markdown",
      "metadata": {
        "id": "view-in-github",
        "colab_type": "text"
      },
      "source": [
        "<a href=\"https://colab.research.google.com/github/manishkadam007/HackerEarth-Deep-Learning-challenge-FriendshipGoals/blob/master/Hackerearth_Friendshipday_DL_challenge.ipynb\" target=\"_parent\"><img src=\"https://colab.research.google.com/assets/colab-badge.svg\" alt=\"Open In Colab\"/></a>"
      ]
    },
    {
      "cell_type": "code",
      "metadata": {
        "id": "1ZdQyFhvRNRb",
        "colab_type": "code",
        "colab": {
          "base_uri": "https://localhost:8080/",
          "height": 102
        },
        "outputId": "7bb9ae71-de10-4564-9b66-4848a9a9a4b1"
      },
      "source": [
        "# memory footprint support libraries/code\n",
        "!ln -sf /opt/bin/nvidia-smi /usr/bin/nvidia-smi\n",
        "!pip install gputil\n",
        "!pip install psutil\n",
        "!pip install humanize\n",
        "import psutil\n",
        "import humanize\n",
        "import os\n",
        "import GPUtil as GPU\n",
        "GPUs = GPU.getGPUs()\n",
        "# XXX: only one GPU on Colab and isn’t guaranteed\n",
        "gpu = GPUs[0]\n",
        "def printm():\n",
        " process = psutil.Process(os.getpid())\n",
        " print(\"Gen RAM Free: \" + humanize.naturalsize( psutil.virtual_memory().available ), \" | Proc size: \" + humanize.naturalsize( process.memory_info().rss))\n",
        " print(\"GPU RAM Free: {0:.0f}MB | Used: {1:.0f}MB | Util {2:3.0f}% | Total {3:.0f}MB\".format(gpu.memoryFree, gpu.memoryUsed, gpu.memoryUtil*100, gpu.memoryTotal))\n",
        "printm() "
      ],
      "execution_count": 6,
      "outputs": [
        {
          "output_type": "stream",
          "text": [
            "Requirement already satisfied: gputil in /usr/local/lib/python3.6/dist-packages (1.4.0)\n",
            "Requirement already satisfied: psutil in /usr/local/lib/python3.6/dist-packages (5.4.8)\n",
            "Requirement already satisfied: humanize in /usr/local/lib/python3.6/dist-packages (0.5.1)\n",
            "Gen RAM Free: 12.7 GB  | Proc size: 112.0 MB\n",
            "GPU RAM Free: 11441MB | Used: 0MB | Util   0% | Total 11441MB\n"
          ],
          "name": "stdout"
        }
      ]
    },
    {
      "cell_type": "code",
      "metadata": {
        "id": "sqtKb3EmS7SQ",
        "colab_type": "code",
        "colab": {
          "base_uri": "https://localhost:8080/",
          "height": 34
        },
        "outputId": "cdb49f0b-1875-4e77-a2c9-8e532a170c9c"
      },
      "source": [
        "from google.colab import drive\n",
        "drive.mount('/content/drive')"
      ],
      "execution_count": 46,
      "outputs": [
        {
          "output_type": "stream",
          "text": [
            "Drive already mounted at /content/drive; to attempt to forcibly remount, call drive.mount(\"/content/drive\", force_remount=True).\n"
          ],
          "name": "stdout"
        }
      ]
    },
    {
      "cell_type": "code",
      "metadata": {
        "id": "OAP-FWbITjtU",
        "colab_type": "code",
        "colab": {}
      },
      "source": [
        "!cp \"/content/drive/My Drive/Train_data\" -r \"/content/\""
      ],
      "execution_count": 4,
      "outputs": []
    },
    {
      "cell_type": "code",
      "metadata": {
        "id": "Hgh4r2c-VIoK",
        "colab_type": "code",
        "colab": {
          "base_uri": "https://localhost:8080/",
          "height": 34
        },
        "outputId": "ca4869d0-d6af-4b67-e802-e327767e2f5e"
      },
      "source": [
        "!ls"
      ],
      "execution_count": 5,
      "outputs": [
        {
          "output_type": "stream",
          "text": [
            "drive  sample_data  Train_data\n"
          ],
          "name": "stdout"
        }
      ]
    },
    {
      "cell_type": "code",
      "metadata": {
        "id": "3bhMEdQ8eklL",
        "colab_type": "code",
        "colab": {}
      },
      "source": [
        "import torch\n",
        "import torchvision.models as models\n",
        "from PIL import Image\n",
        "import torchvision.transforms as transforms\n",
        "import numpy as np\n",
        "import matplotlib.pyplot as plt\n",
        "import os\n",
        "from torchvision import datasets\n",
        "import torch.nn as nn\n",
        "from PIL import ImageFile\n",
        "ImageFile.LOAD_TRUNCATED_IMAGES = True\n",
        "from torch.utils.data.sampler import SubsetRandomSampler"
      ],
      "execution_count": 7,
      "outputs": []
    },
    {
      "cell_type": "code",
      "metadata": {
        "id": "BrzTWMYje-aL",
        "colab_type": "code",
        "colab": {}
      },
      "source": [
        "train_transform = transforms.Compose([\n",
        "    transforms.Resize((224,224)),\n",
        "    transforms.ColorJitter(hue=.05, saturation=.05),\n",
        "    transforms.RandomHorizontalFlip(),\n",
        "    transforms.RandomRotation(20),\n",
        "    transforms.ToTensor(),\n",
        "    transforms.Normalize(mean=[0.485, 0.456, 0.406],std=[0.229, 0.224, 0.225])\n",
        "])\n",
        "\n",
        "test_transform = transforms.Compose([\n",
        "    transforms.Resize((224,224)),\n",
        "    transforms.ToTensor(),\n",
        "    transforms.Normalize(mean=[0.485, 0.456, 0.406],std=[0.229, 0.224, 0.225])\n",
        "])"
      ],
      "execution_count": 8,
      "outputs": []
    },
    {
      "cell_type": "code",
      "metadata": {
        "id": "E17ipZJwfN8v",
        "colab_type": "code",
        "colab": {}
      },
      "source": [
        "train_data = datasets.ImageFolder('Train_data', transform = train_transform)"
      ],
      "execution_count": 9,
      "outputs": []
    },
    {
      "cell_type": "code",
      "metadata": {
        "id": "5dEZC_xpfRyR",
        "colab_type": "code",
        "colab": {
          "base_uri": "https://localhost:8080/",
          "height": 34
        },
        "outputId": "e2d83b92-1811-47e5-a149-a7af210adaa3"
      },
      "source": [
        "len(train_data)"
      ],
      "execution_count": 10,
      "outputs": [
        {
          "output_type": "execute_result",
          "data": {
            "text/plain": [
              "3000"
            ]
          },
          "metadata": {
            "tags": []
          },
          "execution_count": 10
        }
      ]
    },
    {
      "cell_type": "code",
      "metadata": {
        "id": "ZYqw9MTlfUMu",
        "colab_type": "code",
        "colab": {}
      },
      "source": [
        "from torch.utils.data.sampler import SubsetRandomSampler"
      ],
      "execution_count": 11,
      "outputs": []
    },
    {
      "cell_type": "code",
      "metadata": {
        "id": "l4J0gkoDgD-l",
        "colab_type": "code",
        "colab": {}
      },
      "source": [
        "# how many samples per batch to load\n",
        "batch_size = 20\n",
        "# percentage of training set to use as validation\n",
        "valid_size = 0.2\n",
        "\n",
        "num_train = len(train_data)\n",
        "indices = list(range(num_train))\n",
        "np.random.shuffle(indices)\n",
        "split = int(np.floor(valid_size * num_train))\n",
        "train_idx, valid_idx = indices[split:], indices[:split]"
      ],
      "execution_count": 12,
      "outputs": []
    },
    {
      "cell_type": "code",
      "metadata": {
        "id": "fx2yQQhUgPI4",
        "colab_type": "code",
        "colab": {
          "base_uri": "https://localhost:8080/",
          "height": 34
        },
        "outputId": "d84ab2e1-20fb-4ce4-ecd9-8342176e6202"
      },
      "source": [
        "len(train_idx)"
      ],
      "execution_count": 13,
      "outputs": [
        {
          "output_type": "execute_result",
          "data": {
            "text/plain": [
              "2400"
            ]
          },
          "metadata": {
            "tags": []
          },
          "execution_count": 13
        }
      ]
    },
    {
      "cell_type": "code",
      "metadata": {
        "id": "GR4R2GiLgTgs",
        "colab_type": "code",
        "colab": {}
      },
      "source": [
        "train_sampler = SubsetRandomSampler(train_idx)\n",
        "valid_sampler = SubsetRandomSampler(valid_idx)"
      ],
      "execution_count": 14,
      "outputs": []
    },
    {
      "cell_type": "code",
      "metadata": {
        "id": "IA2E6gfzgj5z",
        "colab_type": "code",
        "colab": {}
      },
      "source": [
        "# number of subprocesses to use for data loading\n",
        "num_workers = 0"
      ],
      "execution_count": 16,
      "outputs": []
    },
    {
      "cell_type": "code",
      "metadata": {
        "id": "rlOfnEHugX1g",
        "colab_type": "code",
        "colab": {}
      },
      "source": [
        "train_loader = torch.utils.data.DataLoader(train_data, batch_size=batch_size,\n",
        "    sampler=train_sampler, num_workers=num_workers)\n",
        "valid_loader = torch.utils.data.DataLoader(train_data, batch_size=batch_size, \n",
        "    sampler=valid_sampler, num_workers=num_workers)"
      ],
      "execution_count": 17,
      "outputs": []
    },
    {
      "cell_type": "code",
      "metadata": {
        "id": "vJH7ODMfgd6s",
        "colab_type": "code",
        "colab": {
          "base_uri": "https://localhost:8080/",
          "height": 34
        },
        "outputId": "ca271ee3-6b5a-4a03-a60d-65fd8695e3bb"
      },
      "source": [
        "len(train_loader)*batch_size"
      ],
      "execution_count": 18,
      "outputs": [
        {
          "output_type": "execute_result",
          "data": {
            "text/plain": [
              "2400"
            ]
          },
          "metadata": {
            "tags": []
          },
          "execution_count": 18
        }
      ]
    },
    {
      "cell_type": "code",
      "metadata": {
        "id": "6DxZuVMBgpC2",
        "colab_type": "code",
        "colab": {
          "base_uri": "https://localhost:8080/",
          "height": 34
        },
        "outputId": "cedf51a7-1963-42a8-9b54-991fa4b8d386"
      },
      "source": [
        "len(valid_loader)*batch_size"
      ],
      "execution_count": 19,
      "outputs": [
        {
          "output_type": "execute_result",
          "data": {
            "text/plain": [
              "600"
            ]
          },
          "metadata": {
            "tags": []
          },
          "execution_count": 19
        }
      ]
    },
    {
      "cell_type": "code",
      "metadata": {
        "id": "sOQp4pZOgtGn",
        "colab_type": "code",
        "colab": {}
      },
      "source": [
        "loaders = {}\n",
        "loaders['train'] = train_loader\n",
        "loaders['valid'] = valid_loader"
      ],
      "execution_count": 20,
      "outputs": []
    },
    {
      "cell_type": "code",
      "metadata": {
        "id": "hFbLnFHxgz4F",
        "colab_type": "code",
        "colab": {
          "base_uri": "https://localhost:8080/",
          "height": 83,
          "referenced_widgets": [
            "adbdfe73997c452ab4efa33e510fd22d",
            "e439a22a9fc54d648da1f189e2909519",
            "3084573f3e5f406b9500147c226ab4ba",
            "7286a4bcc187433ea45b6e0b1935fc88",
            "845d8d71526a4f3ab25e25ca4421d58b",
            "5baf24678d394b5d9e6e921fbd6fd167",
            "34e8c0a78d694694802138184e5d0396",
            "5eca7f84ff7143cabbe2dbd6861afc14"
          ]
        },
        "outputId": "eaf8685f-5c5b-4974-caad-1dad472200d8"
      },
      "source": [
        "model_transfer = models.resnet50(pretrained=True)"
      ],
      "execution_count": 21,
      "outputs": [
        {
          "output_type": "stream",
          "text": [
            "Downloading: \"https://download.pytorch.org/models/resnet50-19c8e357.pth\" to /root/.cache/torch/hub/checkpoints/resnet50-19c8e357.pth\n"
          ],
          "name": "stderr"
        },
        {
          "output_type": "display_data",
          "data": {
            "application/vnd.jupyter.widget-view+json": {
              "model_id": "adbdfe73997c452ab4efa33e510fd22d",
              "version_minor": 0,
              "version_major": 2
            },
            "text/plain": [
              "HBox(children=(FloatProgress(value=0.0, max=102502400.0), HTML(value='')))"
            ]
          },
          "metadata": {
            "tags": []
          }
        },
        {
          "output_type": "stream",
          "text": [
            "\n"
          ],
          "name": "stdout"
        }
      ]
    },
    {
      "cell_type": "code",
      "metadata": {
        "id": "YXIpSIUog3fO",
        "colab_type": "code",
        "colab": {}
      },
      "source": [
        "use_cuda = torch.cuda.is_available()"
      ],
      "execution_count": 54,
      "outputs": []
    },
    {
      "cell_type": "code",
      "metadata": {
        "id": "Rj-Osm4Og_La",
        "colab_type": "code",
        "colab": {
          "base_uri": "https://localhost:8080/",
          "height": 34
        },
        "outputId": "cfd69055-bff7-4eb8-a19c-35f1f44bbf39"
      },
      "source": [
        "use_cuda"
      ],
      "execution_count": 55,
      "outputs": [
        {
          "output_type": "execute_result",
          "data": {
            "text/plain": [
              "True"
            ]
          },
          "metadata": {
            "tags": []
          },
          "execution_count": 55
        }
      ]
    },
    {
      "cell_type": "code",
      "metadata": {
        "id": "hiJtqj7tg__l",
        "colab_type": "code",
        "colab": {}
      },
      "source": [
        "def train(n_epochs, loaders, model, optimizer, criterion, use_cuda, save_path):\n",
        "    \"\"\"returns trained model\"\"\"\n",
        "    # initialize tracker for minimum validation loss\n",
        "    valid_loss_min = np.Inf \n",
        "    \n",
        "    for epoch in range(1, n_epochs+1):\n",
        "        # initialize variables to monitor training and validation loss\n",
        "        train_loss = 0.0\n",
        "        valid_loss = 0.0\n",
        "        \n",
        "        correct_train = 0.\n",
        "        total_train = 0.\n",
        "        \n",
        "        correct_valid = 0.\n",
        "        total_valid = 0.\n",
        "        \n",
        "        ###################\n",
        "        # train the model #\n",
        "        ###################\n",
        "        model.train()\n",
        "        for batch_idx, (data, target) in enumerate(loaders['train']):\n",
        "            # move to GPU\n",
        "            if use_cuda:\n",
        "                data, target = data.cuda(), target.cuda()\n",
        "            ## find the loss and update the model parameters accordingly\n",
        "            ## record the average training loss, using something like\n",
        "            ## train_loss = train_loss + ((1 / (batch_idx + 1)) * (loss.data - train_loss))\n",
        "            optimizer.zero_grad()\n",
        "            output = model(data)\n",
        "            loss = criterion(output, target)\n",
        "            loss.backward()\n",
        "            optimizer.step()\n",
        "            train_loss += loss.item()*data.size(0)\n",
        "            pred = output.data.max(1, keepdim=True)[1]\n",
        "            # compare predictions to true label\n",
        "            correct_train += np.sum(np.squeeze(pred.eq(target.data.view_as(pred))).cpu().numpy())\n",
        "            total_train += data.size(0)\n",
        "            \n",
        "        ######################    \n",
        "        # validate the model #\n",
        "        ######################\n",
        "        model.eval()\n",
        "        for batch_idx, (data, target) in enumerate(loaders['valid']):\n",
        "            # move to GPU\n",
        "            if use_cuda:\n",
        "                data, target = data.cuda(), target.cuda()\n",
        "            ## update the average validation loss\n",
        "            output = model(data)\n",
        "            loss = criterion(output, target)\n",
        "            valid_loss += loss.item()*data.size(0)\n",
        "            pred = output.data.max(1, keepdim=True)[1]\n",
        "            # compare predictions to true label\n",
        "            correct_valid += np.sum(np.squeeze(pred.eq(target.data.view_as(pred))).cpu().numpy())\n",
        "            total_valid += data.size(0)\n",
        "            \n",
        "            \n",
        "        train_loss = train_loss/(len(train_loader)*batch_size)\n",
        "        valid_loss = valid_loss/(len(valid_loader)*batch_size)\n",
        "        \n",
        "        train_accuracy = 100 * correct_train / total_train\n",
        "        valid_accuracy = 100 * correct_valid / total_valid\n",
        "        \n",
        "        # print training/validation statistics \n",
        "        print('Epoch: {} \\tTraining Loss: {:.6f} \\tValidation Loss: {:.6f} \\tTraining Accuracy: {:.2f} \\tValidation Accuracy: {:.2f}'.format(\n",
        "            epoch, \n",
        "            train_loss,\n",
        "            valid_loss,\n",
        "            train_accuracy,\n",
        "            valid_accuracy\n",
        "            ))\n",
        "        \n",
        "        ## TODO: save the model if validation loss has decreased\n",
        "        \n",
        "        if valid_loss <= valid_loss_min:\n",
        "            print('Validation loss decreased ({:.6f} --> {:.6f}).  Saving model ...'.format(\n",
        "            valid_loss_min,\n",
        "            valid_loss))\n",
        "            torch.save(model.state_dict(), save_path)\n",
        "            valid_loss_min = valid_loss\n",
        "        \n",
        "    # return trained model\n",
        "    return model"
      ],
      "execution_count": 31,
      "outputs": []
    },
    {
      "cell_type": "code",
      "metadata": {
        "id": "2bXVFTGAhDe0",
        "colab_type": "code",
        "colab": {}
      },
      "source": [
        "for param in model_transfer.parameters():\n",
        "    param.requires_grad = False"
      ],
      "execution_count": 32,
      "outputs": []
    },
    {
      "cell_type": "code",
      "metadata": {
        "id": "bnu8aIAmhH8q",
        "colab_type": "code",
        "colab": {}
      },
      "source": [
        "model_transfer.fc = nn.Linear(2048,3)"
      ],
      "execution_count": 33,
      "outputs": []
    },
    {
      "cell_type": "code",
      "metadata": {
        "id": "Nvj4cZJUhKO8",
        "colab_type": "code",
        "colab": {}
      },
      "source": [
        "if use_cuda:\n",
        "    model_transfer = model_transfer.cuda()"
      ],
      "execution_count": 34,
      "outputs": []
    },
    {
      "cell_type": "code",
      "metadata": {
        "id": "50KHytuWhMDK",
        "colab_type": "code",
        "colab": {}
      },
      "source": [
        "criterion_transfer = nn.CrossEntropyLoss()\n",
        "optimizer_transfer = torch.optim.Adam(model_transfer.fc.parameters())"
      ],
      "execution_count": 35,
      "outputs": []
    },
    {
      "cell_type": "code",
      "metadata": {
        "id": "tWU9tx5shOQQ",
        "colab_type": "code",
        "colab": {
          "base_uri": "https://localhost:8080/",
          "height": 34
        },
        "outputId": "0a90711e-cd40-43cc-8fd9-b1d43fc184c3"
      },
      "source": [
        "train_data.classes"
      ],
      "execution_count": 36,
      "outputs": [
        {
          "output_type": "execute_result",
          "data": {
            "text/plain": [
              "['adults', 'teenagers', 'toddlers']"
            ]
          },
          "metadata": {
            "tags": []
          },
          "execution_count": 36
        }
      ]
    },
    {
      "cell_type": "code",
      "metadata": {
        "id": "YLXWU9aghR6m",
        "colab_type": "code",
        "colab": {
          "base_uri": "https://localhost:8080/",
          "height": 561
        },
        "outputId": "a8bf4706-dd0c-417d-8e53-2641a7f6052a"
      },
      "source": [
        "# train the model\n",
        "model_transfer = train(20, loaders, model_transfer, optimizer_transfer, criterion_transfer, use_cuda, 'model_transfer.pt')"
      ],
      "execution_count": 37,
      "outputs": [
        {
          "output_type": "stream",
          "text": [
            "Epoch: 1 \tTraining Loss: 0.767243 \tValidation Loss: 0.554422 \tTraining Accuracy: 66.58 \tValidation Accuracy: 77.50\n",
            "Validation loss decreased (inf --> 0.554422).  Saving model ...\n",
            "Epoch: 2 \tTraining Loss: 0.565089 \tValidation Loss: 0.445419 \tTraining Accuracy: 77.00 \tValidation Accuracy: 85.33\n",
            "Validation loss decreased (0.554422 --> 0.445419).  Saving model ...\n",
            "Epoch: 3 \tTraining Loss: 0.461418 \tValidation Loss: 0.411044 \tTraining Accuracy: 83.04 \tValidation Accuracy: 85.83\n",
            "Validation loss decreased (0.445419 --> 0.411044).  Saving model ...\n",
            "Epoch: 4 \tTraining Loss: 0.449635 \tValidation Loss: 0.375351 \tTraining Accuracy: 82.46 \tValidation Accuracy: 87.00\n",
            "Validation loss decreased (0.411044 --> 0.375351).  Saving model ...\n",
            "Epoch: 5 \tTraining Loss: 0.446485 \tValidation Loss: 0.355046 \tTraining Accuracy: 83.12 \tValidation Accuracy: 88.83\n",
            "Validation loss decreased (0.375351 --> 0.355046).  Saving model ...\n",
            "Epoch: 6 \tTraining Loss: 0.416835 \tValidation Loss: 0.342178 \tTraining Accuracy: 83.42 \tValidation Accuracy: 89.50\n",
            "Validation loss decreased (0.355046 --> 0.342178).  Saving model ...\n",
            "Epoch: 7 \tTraining Loss: 0.401385 \tValidation Loss: 0.356217 \tTraining Accuracy: 84.04 \tValidation Accuracy: 88.17\n",
            "Epoch: 8 \tTraining Loss: 0.407778 \tValidation Loss: 0.334164 \tTraining Accuracy: 84.04 \tValidation Accuracy: 87.83\n",
            "Validation loss decreased (0.342178 --> 0.334164).  Saving model ...\n",
            "Epoch: 9 \tTraining Loss: 0.369710 \tValidation Loss: 0.328317 \tTraining Accuracy: 86.04 \tValidation Accuracy: 89.00\n",
            "Validation loss decreased (0.334164 --> 0.328317).  Saving model ...\n",
            "Epoch: 10 \tTraining Loss: 0.392633 \tValidation Loss: 0.332865 \tTraining Accuracy: 84.92 \tValidation Accuracy: 87.00\n",
            "Epoch: 11 \tTraining Loss: 0.350128 \tValidation Loss: 0.302308 \tTraining Accuracy: 87.00 \tValidation Accuracy: 90.50\n",
            "Validation loss decreased (0.328317 --> 0.302308).  Saving model ...\n",
            "Epoch: 12 \tTraining Loss: 0.365344 \tValidation Loss: 0.328633 \tTraining Accuracy: 85.54 \tValidation Accuracy: 89.00\n",
            "Epoch: 13 \tTraining Loss: 0.341996 \tValidation Loss: 0.280114 \tTraining Accuracy: 86.83 \tValidation Accuracy: 90.50\n",
            "Validation loss decreased (0.302308 --> 0.280114).  Saving model ...\n",
            "Epoch: 14 \tTraining Loss: 0.328743 \tValidation Loss: 0.309311 \tTraining Accuracy: 86.88 \tValidation Accuracy: 87.33\n",
            "Epoch: 15 \tTraining Loss: 0.333516 \tValidation Loss: 0.361909 \tTraining Accuracy: 86.67 \tValidation Accuracy: 85.83\n",
            "Epoch: 16 \tTraining Loss: 0.350799 \tValidation Loss: 0.302240 \tTraining Accuracy: 85.96 \tValidation Accuracy: 89.67\n",
            "Epoch: 17 \tTraining Loss: 0.309228 \tValidation Loss: 0.277707 \tTraining Accuracy: 88.29 \tValidation Accuracy: 91.00\n",
            "Validation loss decreased (0.280114 --> 0.277707).  Saving model ...\n",
            "Epoch: 18 \tTraining Loss: 0.340465 \tValidation Loss: 0.261318 \tTraining Accuracy: 86.62 \tValidation Accuracy: 90.83\n",
            "Validation loss decreased (0.277707 --> 0.261318).  Saving model ...\n",
            "Epoch: 19 \tTraining Loss: 0.345161 \tValidation Loss: 0.286750 \tTraining Accuracy: 86.62 \tValidation Accuracy: 89.83\n",
            "Epoch: 20 \tTraining Loss: 0.317205 \tValidation Loss: 0.272069 \tTraining Accuracy: 87.83 \tValidation Accuracy: 91.33\n"
          ],
          "name": "stdout"
        }
      ]
    },
    {
      "cell_type": "code",
      "metadata": {
        "id": "uKq0BW4qhVvA",
        "colab_type": "code",
        "colab": {}
      },
      "source": [
        ""
      ],
      "execution_count": null,
      "outputs": []
    },
    {
      "cell_type": "code",
      "metadata": {
        "id": "RYVInlb2iYpo",
        "colab_type": "code",
        "colab": {
          "base_uri": "https://localhost:8080/",
          "height": 34
        },
        "outputId": "c1a36070-430f-4681-8a1d-2d802e3d70aa"
      },
      "source": [
        "# load the model that got the best validation accuracy (uncomment the line below)\n",
        "model_transfer.load_state_dict(torch.load('model_transfer.pt'))"
      ],
      "execution_count": 38,
      "outputs": [
        {
          "output_type": "execute_result",
          "data": {
            "text/plain": [
              "<All keys matched successfully>"
            ]
          },
          "metadata": {
            "tags": []
          },
          "execution_count": 38
        }
      ]
    },
    {
      "cell_type": "code",
      "metadata": {
        "id": "VvnLWXoTiZ7U",
        "colab_type": "code",
        "colab": {}
      },
      "source": [
        "classes = train_data.classes"
      ],
      "execution_count": 39,
      "outputs": []
    },
    {
      "cell_type": "code",
      "metadata": {
        "id": "zw8eNWc0icNO",
        "colab_type": "code",
        "colab": {}
      },
      "source": [
        "def predict_age_group(img_name):\n",
        "    \n",
        "    dir_path = \"Test Data/Test Data\" \n",
        "    \n",
        "    img_path = os.path.join(dir_path, img_name)\n",
        "    \n",
        "    img = Image.open(img_path)\n",
        "    \n",
        "    img = test_transform(img)\n",
        "    \n",
        "    img = torch.unsqueeze(img, 0)\n",
        "\n",
        "    model_transfer.eval()\n",
        "    \n",
        "    img = img.cuda()\n",
        "    \n",
        "    out = model_transfer(img) \n",
        "    \n",
        "    _, indices = torch.sort(out, descending=True)\n",
        "\n",
        "    return classes[indices[0][0]]"
      ],
      "execution_count": 49,
      "outputs": []
    },
    {
      "cell_type": "code",
      "metadata": {
        "id": "GbRDVI3yifWv",
        "colab_type": "code",
        "colab": {}
      },
      "source": [
        "import pandas as pd\n",
        "df = pd.read_csv('Test.csv')"
      ],
      "execution_count": 41,
      "outputs": []
    },
    {
      "cell_type": "code",
      "metadata": {
        "id": "dohhskLhijxp",
        "colab_type": "code",
        "colab": {
          "base_uri": "https://localhost:8080/",
          "height": 204
        },
        "outputId": "d03129f1-3ec7-48c9-ea72-22bcbe36aaeb"
      },
      "source": [
        "df.head()"
      ],
      "execution_count": 42,
      "outputs": [
        {
          "output_type": "execute_result",
          "data": {
            "text/html": [
              "<div>\n",
              "<style scoped>\n",
              "    .dataframe tbody tr th:only-of-type {\n",
              "        vertical-align: middle;\n",
              "    }\n",
              "\n",
              "    .dataframe tbody tr th {\n",
              "        vertical-align: top;\n",
              "    }\n",
              "\n",
              "    .dataframe thead th {\n",
              "        text-align: right;\n",
              "    }\n",
              "</style>\n",
              "<table border=\"1\" class=\"dataframe\">\n",
              "  <thead>\n",
              "    <tr style=\"text-align: right;\">\n",
              "      <th></th>\n",
              "      <th>Filename</th>\n",
              "    </tr>\n",
              "  </thead>\n",
              "  <tbody>\n",
              "    <tr>\n",
              "      <th>0</th>\n",
              "      <td>Img1137.jpg</td>\n",
              "    </tr>\n",
              "    <tr>\n",
              "      <th>1</th>\n",
              "      <td>Img3633.jpg</td>\n",
              "    </tr>\n",
              "    <tr>\n",
              "      <th>2</th>\n",
              "      <td>Img1474.jpg</td>\n",
              "    </tr>\n",
              "    <tr>\n",
              "      <th>3</th>\n",
              "      <td>Img3459.jpg</td>\n",
              "    </tr>\n",
              "    <tr>\n",
              "      <th>4</th>\n",
              "      <td>Img5578.jpg</td>\n",
              "    </tr>\n",
              "  </tbody>\n",
              "</table>\n",
              "</div>"
            ],
            "text/plain": [
              "      Filename\n",
              "0  Img1137.jpg\n",
              "1  Img3633.jpg\n",
              "2  Img1474.jpg\n",
              "3  Img3459.jpg\n",
              "4  Img5578.jpg"
            ]
          },
          "metadata": {
            "tags": []
          },
          "execution_count": 42
        }
      ]
    },
    {
      "cell_type": "code",
      "metadata": {
        "id": "YyTZFmr_06XV",
        "colab_type": "code",
        "colab": {}
      },
      "source": [
        "!cp \"/content/drive/My Drive/Test Data\" -r \"/content/\""
      ],
      "execution_count": 47,
      "outputs": []
    },
    {
      "cell_type": "code",
      "metadata": {
        "id": "gY4srwp9ilq7",
        "colab_type": "code",
        "colab": {}
      },
      "source": [
        "df['Category'] = df['Filename'].apply(predict_age_group)"
      ],
      "execution_count": 50,
      "outputs": []
    },
    {
      "cell_type": "code",
      "metadata": {
        "id": "KdsNUZgniow4",
        "colab_type": "code",
        "colab": {}
      },
      "source": [
        "df['Category'] = df['Category'].map({'adults':'Adults', 'toddlers':'Toddelers', 'teenagers':'Teenagers'})"
      ],
      "execution_count": 51,
      "outputs": []
    },
    {
      "cell_type": "code",
      "metadata": {
        "id": "UQTq_TlkirMG",
        "colab_type": "code",
        "colab": {
          "base_uri": "https://localhost:8080/",
          "height": 204
        },
        "outputId": "32b6ef9d-d9f8-4b7a-c86e-8dc9597d5d88"
      },
      "source": [
        "df.head()"
      ],
      "execution_count": 52,
      "outputs": [
        {
          "output_type": "execute_result",
          "data": {
            "text/html": [
              "<div>\n",
              "<style scoped>\n",
              "    .dataframe tbody tr th:only-of-type {\n",
              "        vertical-align: middle;\n",
              "    }\n",
              "\n",
              "    .dataframe tbody tr th {\n",
              "        vertical-align: top;\n",
              "    }\n",
              "\n",
              "    .dataframe thead th {\n",
              "        text-align: right;\n",
              "    }\n",
              "</style>\n",
              "<table border=\"1\" class=\"dataframe\">\n",
              "  <thead>\n",
              "    <tr style=\"text-align: right;\">\n",
              "      <th></th>\n",
              "      <th>Filename</th>\n",
              "      <th>Category</th>\n",
              "    </tr>\n",
              "  </thead>\n",
              "  <tbody>\n",
              "    <tr>\n",
              "      <th>0</th>\n",
              "      <td>Img1137.jpg</td>\n",
              "      <td>Adults</td>\n",
              "    </tr>\n",
              "    <tr>\n",
              "      <th>1</th>\n",
              "      <td>Img3633.jpg</td>\n",
              "      <td>Teenagers</td>\n",
              "    </tr>\n",
              "    <tr>\n",
              "      <th>2</th>\n",
              "      <td>Img1474.jpg</td>\n",
              "      <td>Teenagers</td>\n",
              "    </tr>\n",
              "    <tr>\n",
              "      <th>3</th>\n",
              "      <td>Img3459.jpg</td>\n",
              "      <td>Adults</td>\n",
              "    </tr>\n",
              "    <tr>\n",
              "      <th>4</th>\n",
              "      <td>Img5578.jpg</td>\n",
              "      <td>Toddelers</td>\n",
              "    </tr>\n",
              "  </tbody>\n",
              "</table>\n",
              "</div>"
            ],
            "text/plain": [
              "      Filename   Category\n",
              "0  Img1137.jpg     Adults\n",
              "1  Img3633.jpg  Teenagers\n",
              "2  Img1474.jpg  Teenagers\n",
              "3  Img3459.jpg     Adults\n",
              "4  Img5578.jpg  Toddelers"
            ]
          },
          "metadata": {
            "tags": []
          },
          "execution_count": 52
        }
      ]
    },
    {
      "cell_type": "code",
      "metadata": {
        "id": "rlU7qkizitMz",
        "colab_type": "code",
        "colab": {}
      },
      "source": [
        "df.to_csv('Submission2.csv', index=False)"
      ],
      "execution_count": 53,
      "outputs": []
    },
    {
      "cell_type": "code",
      "metadata": {
        "id": "5hFGRErC2gpt",
        "colab_type": "code",
        "colab": {
          "base_uri": "https://localhost:8080/",
          "height": 1000
        },
        "outputId": "6afb3680-4c6e-49d6-d888-ea9db78e5ff9"
      },
      "source": [
        "model_transfer = train(50, loaders, model_transfer, optimizer_transfer, criterion_transfer, use_cuda, 'model_transfer2.pt')"
      ],
      "execution_count": 57,
      "outputs": [
        {
          "output_type": "stream",
          "text": [
            "Epoch: 1 \tTraining Loss: 0.315264 \tValidation Loss: 0.264517 \tTraining Accuracy: 88.12 \tValidation Accuracy: 91.50\n",
            "Validation loss decreased (inf --> 0.264517).  Saving model ...\n",
            "Epoch: 2 \tTraining Loss: 0.315097 \tValidation Loss: 0.366522 \tTraining Accuracy: 87.54 \tValidation Accuracy: 87.50\n",
            "Epoch: 3 \tTraining Loss: 0.315593 \tValidation Loss: 0.299504 \tTraining Accuracy: 88.33 \tValidation Accuracy: 88.83\n",
            "Epoch: 4 \tTraining Loss: 0.302910 \tValidation Loss: 0.305302 \tTraining Accuracy: 88.58 \tValidation Accuracy: 87.33\n",
            "Epoch: 5 \tTraining Loss: 0.328575 \tValidation Loss: 0.276810 \tTraining Accuracy: 87.29 \tValidation Accuracy: 90.33\n",
            "Epoch: 6 \tTraining Loss: 0.302834 \tValidation Loss: 0.291579 \tTraining Accuracy: 88.92 \tValidation Accuracy: 90.33\n",
            "Epoch: 7 \tTraining Loss: 0.299339 \tValidation Loss: 0.251314 \tTraining Accuracy: 88.21 \tValidation Accuracy: 91.67\n",
            "Validation loss decreased (0.264517 --> 0.251314).  Saving model ...\n",
            "Epoch: 8 \tTraining Loss: 0.306644 \tValidation Loss: 0.231547 \tTraining Accuracy: 88.12 \tValidation Accuracy: 91.50\n",
            "Validation loss decreased (0.251314 --> 0.231547).  Saving model ...\n",
            "Epoch: 9 \tTraining Loss: 0.287929 \tValidation Loss: 0.244453 \tTraining Accuracy: 89.62 \tValidation Accuracy: 91.83\n",
            "Epoch: 10 \tTraining Loss: 0.314763 \tValidation Loss: 0.277115 \tTraining Accuracy: 87.71 \tValidation Accuracy: 91.17\n",
            "Epoch: 11 \tTraining Loss: 0.291414 \tValidation Loss: 0.211543 \tTraining Accuracy: 88.25 \tValidation Accuracy: 93.67\n",
            "Validation loss decreased (0.231547 --> 0.211543).  Saving model ...\n",
            "Epoch: 12 \tTraining Loss: 0.286334 \tValidation Loss: 0.232652 \tTraining Accuracy: 89.04 \tValidation Accuracy: 90.50\n",
            "Epoch: 13 \tTraining Loss: 0.256034 \tValidation Loss: 0.253811 \tTraining Accuracy: 91.00 \tValidation Accuracy: 91.17\n",
            "Epoch: 14 \tTraining Loss: 0.305418 \tValidation Loss: 0.249316 \tTraining Accuracy: 88.33 \tValidation Accuracy: 89.83\n",
            "Epoch: 15 \tTraining Loss: 0.276390 \tValidation Loss: 0.216218 \tTraining Accuracy: 89.67 \tValidation Accuracy: 92.50\n",
            "Epoch: 16 \tTraining Loss: 0.274210 \tValidation Loss: 0.221284 \tTraining Accuracy: 89.58 \tValidation Accuracy: 92.33\n",
            "Epoch: 17 \tTraining Loss: 0.253294 \tValidation Loss: 0.207756 \tTraining Accuracy: 91.71 \tValidation Accuracy: 92.83\n",
            "Validation loss decreased (0.211543 --> 0.207756).  Saving model ...\n",
            "Epoch: 18 \tTraining Loss: 0.269316 \tValidation Loss: 0.235015 \tTraining Accuracy: 89.88 \tValidation Accuracy: 92.00\n",
            "Epoch: 19 \tTraining Loss: 0.309266 \tValidation Loss: 0.194045 \tTraining Accuracy: 88.08 \tValidation Accuracy: 93.00\n",
            "Validation loss decreased (0.207756 --> 0.194045).  Saving model ...\n",
            "Epoch: 20 \tTraining Loss: 0.274318 \tValidation Loss: 0.213295 \tTraining Accuracy: 89.42 \tValidation Accuracy: 91.50\n",
            "Epoch: 21 \tTraining Loss: 0.264122 \tValidation Loss: 0.299657 \tTraining Accuracy: 90.29 \tValidation Accuracy: 88.33\n",
            "Epoch: 22 \tTraining Loss: 0.281908 \tValidation Loss: 0.312706 \tTraining Accuracy: 88.96 \tValidation Accuracy: 86.67\n",
            "Epoch: 23 \tTraining Loss: 0.263631 \tValidation Loss: 0.206506 \tTraining Accuracy: 90.29 \tValidation Accuracy: 91.83\n",
            "Epoch: 24 \tTraining Loss: 0.268259 \tValidation Loss: 0.198732 \tTraining Accuracy: 90.29 \tValidation Accuracy: 92.67\n",
            "Epoch: 25 \tTraining Loss: 0.239428 \tValidation Loss: 0.179948 \tTraining Accuracy: 91.17 \tValidation Accuracy: 93.50\n",
            "Validation loss decreased (0.194045 --> 0.179948).  Saving model ...\n",
            "Epoch: 26 \tTraining Loss: 0.283089 \tValidation Loss: 0.193263 \tTraining Accuracy: 89.29 \tValidation Accuracy: 92.33\n",
            "Epoch: 27 \tTraining Loss: 0.238107 \tValidation Loss: 0.210256 \tTraining Accuracy: 91.42 \tValidation Accuracy: 93.50\n",
            "Epoch: 28 \tTraining Loss: 0.251784 \tValidation Loss: 0.174498 \tTraining Accuracy: 90.42 \tValidation Accuracy: 94.33\n",
            "Validation loss decreased (0.179948 --> 0.174498).  Saving model ...\n",
            "Epoch: 29 \tTraining Loss: 0.244279 \tValidation Loss: 0.205020 \tTraining Accuracy: 91.08 \tValidation Accuracy: 93.67\n",
            "Epoch: 30 \tTraining Loss: 0.252704 \tValidation Loss: 0.189007 \tTraining Accuracy: 90.29 \tValidation Accuracy: 95.00\n",
            "Epoch: 31 \tTraining Loss: 0.265694 \tValidation Loss: 0.313752 \tTraining Accuracy: 89.50 \tValidation Accuracy: 87.83\n",
            "Epoch: 32 \tTraining Loss: 0.290794 \tValidation Loss: 0.192090 \tTraining Accuracy: 88.62 \tValidation Accuracy: 94.00\n",
            "Epoch: 33 \tTraining Loss: 0.249427 \tValidation Loss: 0.186211 \tTraining Accuracy: 90.83 \tValidation Accuracy: 93.33\n",
            "Epoch: 34 \tTraining Loss: 0.255411 \tValidation Loss: 0.167435 \tTraining Accuracy: 89.08 \tValidation Accuracy: 93.33\n",
            "Validation loss decreased (0.174498 --> 0.167435).  Saving model ...\n",
            "Epoch: 35 \tTraining Loss: 0.249933 \tValidation Loss: 0.220313 \tTraining Accuracy: 91.33 \tValidation Accuracy: 91.67\n",
            "Epoch: 36 \tTraining Loss: 0.224076 \tValidation Loss: 0.180590 \tTraining Accuracy: 91.67 \tValidation Accuracy: 95.00\n",
            "Epoch: 37 \tTraining Loss: 0.217738 \tValidation Loss: 0.190082 \tTraining Accuracy: 92.12 \tValidation Accuracy: 93.17\n",
            "Epoch: 38 \tTraining Loss: 0.217585 \tValidation Loss: 0.185484 \tTraining Accuracy: 91.75 \tValidation Accuracy: 94.00\n",
            "Epoch: 39 \tTraining Loss: 0.222443 \tValidation Loss: 0.182941 \tTraining Accuracy: 92.00 \tValidation Accuracy: 94.67\n",
            "Epoch: 40 \tTraining Loss: 0.211758 \tValidation Loss: 0.210121 \tTraining Accuracy: 92.58 \tValidation Accuracy: 93.00\n",
            "Epoch: 41 \tTraining Loss: 0.229810 \tValidation Loss: 0.189305 \tTraining Accuracy: 91.79 \tValidation Accuracy: 93.00\n",
            "Epoch: 42 \tTraining Loss: 0.223340 \tValidation Loss: 0.183555 \tTraining Accuracy: 91.46 \tValidation Accuracy: 93.67\n",
            "Epoch: 43 \tTraining Loss: 0.225981 \tValidation Loss: 0.176961 \tTraining Accuracy: 91.25 \tValidation Accuracy: 93.67\n",
            "Epoch: 44 \tTraining Loss: 0.260177 \tValidation Loss: 0.169901 \tTraining Accuracy: 90.17 \tValidation Accuracy: 93.50\n",
            "Epoch: 45 \tTraining Loss: 0.219448 \tValidation Loss: 0.165503 \tTraining Accuracy: 91.83 \tValidation Accuracy: 94.17\n",
            "Validation loss decreased (0.167435 --> 0.165503).  Saving model ...\n",
            "Epoch: 46 \tTraining Loss: 0.239581 \tValidation Loss: 0.173182 \tTraining Accuracy: 90.71 \tValidation Accuracy: 94.50\n",
            "Epoch: 47 \tTraining Loss: 0.208001 \tValidation Loss: 0.157622 \tTraining Accuracy: 92.04 \tValidation Accuracy: 95.83\n",
            "Validation loss decreased (0.165503 --> 0.157622).  Saving model ...\n",
            "Epoch: 48 \tTraining Loss: 0.234585 \tValidation Loss: 0.151174 \tTraining Accuracy: 91.33 \tValidation Accuracy: 94.83\n",
            "Validation loss decreased (0.157622 --> 0.151174).  Saving model ...\n",
            "Epoch: 49 \tTraining Loss: 0.237849 \tValidation Loss: 0.269057 \tTraining Accuracy: 90.54 \tValidation Accuracy: 91.00\n",
            "Epoch: 50 \tTraining Loss: 0.206756 \tValidation Loss: 0.171447 \tTraining Accuracy: 92.50 \tValidation Accuracy: 92.83\n"
          ],
          "name": "stdout"
        }
      ]
    },
    {
      "cell_type": "code",
      "metadata": {
        "id": "zEibSNKk37cz",
        "colab_type": "code",
        "colab": {}
      },
      "source": [
        "# load the model that got the best validation accuracy (uncomment the line below)\n",
        "model_transfer.load_state_dict(torch.load('model_transfer2.pt'))\n",
        "import pandas as pd\n",
        "df = pd.read_csv('Test.csv')\n",
        "df['Category'] = df['Filename'].apply(predict_age_group)\n",
        "df['Category'] = df['Category'].map({'adults':'Adults', 'toddlers':'Toddelers', 'teenagers':'Teenagers'})\n",
        "df.to_csv('Submission3.csv', index=False)"
      ],
      "execution_count": 59,
      "outputs": []
    },
    {
      "cell_type": "code",
      "metadata": {
        "id": "526elFQNSo3w",
        "colab_type": "code",
        "colab": {
          "base_uri": "https://localhost:8080/",
          "height": 238
        },
        "outputId": "a61d0cac-4e85-4a8a-85d2-a12f9fc327c8"
      },
      "source": [
        "# define the CNN architecture\n",
        "class Net(nn.Module):\n",
        "    ### TODO: choose an architecture, and complete the class\n",
        "    def __init__(self):\n",
        "        super(Net, self).__init__()\n",
        "        ## Define layers of a CNN\n",
        "        self.conv1 = nn.Conv2d(3,16,3, padding = 1)\n",
        "        self.conv2 = nn.Conv2d(16,32,3, padding = 1)\n",
        "        self.conv3 = nn.Conv2d(32,64,3, padding = 1)\n",
        "        self.conv4 = nn.Conv2d(64,128,3, padding = 1)\n",
        "        self.conv5 = nn.Conv2d(128,256,3, padding = 1)\n",
        "        self.pool = nn.MaxPool2d(2, 2)\n",
        "        self.fc1 = nn.Linear(256 * 7 * 7, 8000)\n",
        "        self.fc2 = nn.Linear(8000,4000)\n",
        "        self.fc3 = nn.Linear(4000,1000)\n",
        "        self.fc4 = nn.Linear(1000,3)\n",
        "        self.dropout = nn.Dropout(0.25)\n",
        "        \n",
        "    def forward(self, x):\n",
        "        ## Define forward behavior\n",
        "        x = self.pool(F.relu(self.conv1(x)))\n",
        "        x = self.pool(F.relu(self.conv2(x)))\n",
        "        x = self.pool(F.relu(self.conv3(x)))\n",
        "        x = self.pool(F.relu(self.conv4(x)))\n",
        "        x = self.pool(F.relu(self.conv5(x)))\n",
        "        x = x.view(-1,256*7*7)\n",
        "        x = F.relu(self.fc1(x))\n",
        "        x = self.dropout(x)\n",
        "        x = F.relu(self.fc2(x))\n",
        "        x = self.dropout(x)\n",
        "        x = F.relu(self.fc3(x))\n",
        "        x = self.dropout(x)\n",
        "        x = self.fc4(x)\n",
        "        return x\n",
        "\n",
        "#-#-# You so NOT have to modify the code below this line. #-#-#\n",
        "\n",
        "# instantiate the CNN\n",
        "model_scratch = Net()\n",
        "print(model_scratch)\n",
        "\n",
        "# move tensors to GPU if CUDA is available\n",
        "if use_cuda:\n",
        "    model_scratch.cuda()"
      ],
      "execution_count": 62,
      "outputs": [
        {
          "output_type": "stream",
          "text": [
            "Net(\n",
            "  (conv1): Conv2d(3, 16, kernel_size=(3, 3), stride=(1, 1), padding=(1, 1))\n",
            "  (conv2): Conv2d(16, 32, kernel_size=(3, 3), stride=(1, 1), padding=(1, 1))\n",
            "  (conv3): Conv2d(32, 64, kernel_size=(3, 3), stride=(1, 1), padding=(1, 1))\n",
            "  (conv4): Conv2d(64, 128, kernel_size=(3, 3), stride=(1, 1), padding=(1, 1))\n",
            "  (conv5): Conv2d(128, 256, kernel_size=(3, 3), stride=(1, 1), padding=(1, 1))\n",
            "  (pool): MaxPool2d(kernel_size=2, stride=2, padding=0, dilation=1, ceil_mode=False)\n",
            "  (fc1): Linear(in_features=12544, out_features=8000, bias=True)\n",
            "  (fc2): Linear(in_features=8000, out_features=4000, bias=True)\n",
            "  (fc3): Linear(in_features=4000, out_features=1000, bias=True)\n",
            "  (fc4): Linear(in_features=1000, out_features=3, bias=True)\n",
            "  (dropout): Dropout(p=0.25, inplace=False)\n",
            ")\n"
          ],
          "name": "stdout"
        }
      ]
    },
    {
      "cell_type": "code",
      "metadata": {
        "id": "Ob-xrCc8Syis",
        "colab_type": "code",
        "colab": {}
      },
      "source": [
        "criterion_scratch = nn.CrossEntropyLoss()\n",
        "optimizer_scratch = torch.optim.Adam(model_scratch.parameters())"
      ],
      "execution_count": 63,
      "outputs": []
    },
    {
      "cell_type": "code",
      "metadata": {
        "id": "dHJpbjyZUS2Q",
        "colab_type": "code",
        "colab": {}
      },
      "source": [
        "import torch.nn.functional as F"
      ],
      "execution_count": 65,
      "outputs": []
    },
    {
      "cell_type": "code",
      "metadata": {
        "id": "-fWQ3LcpTFKq",
        "colab_type": "code",
        "colab": {
          "base_uri": "https://localhost:8080/",
          "height": 1000
        },
        "outputId": "10304f78-3352-4b87-feb5-8c4b90b4969b"
      },
      "source": [
        "model_scratch = train(50, loaders, model_scratch, optimizer_scratch, criterion_scratch, use_cuda, 'model_scratch.pt')"
      ],
      "execution_count": 67,
      "outputs": [
        {
          "output_type": "stream",
          "text": [
            "Epoch: 1 \tTraining Loss: 1.095929 \tValidation Loss: 1.035858 \tTraining Accuracy: 35.04 \tValidation Accuracy: 46.33\n",
            "Validation loss decreased (inf --> 1.035858).  Saving model ...\n",
            "Epoch: 2 \tTraining Loss: 1.043023 \tValidation Loss: 0.938850 \tTraining Accuracy: 45.25 \tValidation Accuracy: 55.83\n",
            "Validation loss decreased (1.035858 --> 0.938850).  Saving model ...\n",
            "Epoch: 3 \tTraining Loss: 0.969611 \tValidation Loss: 1.064194 \tTraining Accuracy: 51.96 \tValidation Accuracy: 31.17\n",
            "Epoch: 4 \tTraining Loss: 0.923113 \tValidation Loss: 0.772147 \tTraining Accuracy: 54.00 \tValidation Accuracy: 66.00\n",
            "Validation loss decreased (0.938850 --> 0.772147).  Saving model ...\n",
            "Epoch: 5 \tTraining Loss: 0.782172 \tValidation Loss: 0.649998 \tTraining Accuracy: 64.62 \tValidation Accuracy: 71.83\n",
            "Validation loss decreased (0.772147 --> 0.649998).  Saving model ...\n",
            "Epoch: 6 \tTraining Loss: 0.714404 \tValidation Loss: 0.610179 \tTraining Accuracy: 68.67 \tValidation Accuracy: 74.00\n",
            "Validation loss decreased (0.649998 --> 0.610179).  Saving model ...\n",
            "Epoch: 7 \tTraining Loss: 0.679056 \tValidation Loss: 0.621840 \tTraining Accuracy: 70.58 \tValidation Accuracy: 71.67\n",
            "Epoch: 8 \tTraining Loss: 0.568936 \tValidation Loss: 0.586264 \tTraining Accuracy: 77.12 \tValidation Accuracy: 78.33\n",
            "Validation loss decreased (0.610179 --> 0.586264).  Saving model ...\n",
            "Epoch: 9 \tTraining Loss: 0.525594 \tValidation Loss: 0.419285 \tTraining Accuracy: 79.38 \tValidation Accuracy: 84.33\n",
            "Validation loss decreased (0.586264 --> 0.419285).  Saving model ...\n",
            "Epoch: 10 \tTraining Loss: 0.431629 \tValidation Loss: 0.431141 \tTraining Accuracy: 83.29 \tValidation Accuracy: 83.50\n",
            "Epoch: 11 \tTraining Loss: 0.405463 \tValidation Loss: 0.285942 \tTraining Accuracy: 84.83 \tValidation Accuracy: 88.50\n",
            "Validation loss decreased (0.419285 --> 0.285942).  Saving model ...\n",
            "Epoch: 12 \tTraining Loss: 0.364344 \tValidation Loss: 0.319823 \tTraining Accuracy: 85.67 \tValidation Accuracy: 87.50\n",
            "Epoch: 13 \tTraining Loss: 0.293443 \tValidation Loss: 0.275517 \tTraining Accuracy: 90.33 \tValidation Accuracy: 90.67\n",
            "Validation loss decreased (0.285942 --> 0.275517).  Saving model ...\n",
            "Epoch: 14 \tTraining Loss: 0.261197 \tValidation Loss: 0.396985 \tTraining Accuracy: 90.38 \tValidation Accuracy: 83.67\n",
            "Epoch: 15 \tTraining Loss: 0.235946 \tValidation Loss: 0.214974 \tTraining Accuracy: 92.04 \tValidation Accuracy: 92.83\n",
            "Validation loss decreased (0.275517 --> 0.214974).  Saving model ...\n",
            "Epoch: 16 \tTraining Loss: 0.203533 \tValidation Loss: 0.227486 \tTraining Accuracy: 93.42 \tValidation Accuracy: 92.50\n",
            "Epoch: 17 \tTraining Loss: 0.190808 \tValidation Loss: 0.217537 \tTraining Accuracy: 93.71 \tValidation Accuracy: 92.33\n",
            "Epoch: 18 \tTraining Loss: 0.153016 \tValidation Loss: 0.148788 \tTraining Accuracy: 95.12 \tValidation Accuracy: 95.50\n",
            "Validation loss decreased (0.214974 --> 0.148788).  Saving model ...\n",
            "Epoch: 19 \tTraining Loss: 0.154979 \tValidation Loss: 0.110073 \tTraining Accuracy: 95.08 \tValidation Accuracy: 95.83\n",
            "Validation loss decreased (0.148788 --> 0.110073).  Saving model ...\n",
            "Epoch: 20 \tTraining Loss: 0.178401 \tValidation Loss: 0.131798 \tTraining Accuracy: 94.62 \tValidation Accuracy: 95.17\n",
            "Epoch: 21 \tTraining Loss: 0.136771 \tValidation Loss: 0.140186 \tTraining Accuracy: 95.96 \tValidation Accuracy: 94.00\n",
            "Epoch: 22 \tTraining Loss: 0.112650 \tValidation Loss: 0.158137 \tTraining Accuracy: 96.67 \tValidation Accuracy: 96.17\n",
            "Epoch: 23 \tTraining Loss: 0.092253 \tValidation Loss: 0.122673 \tTraining Accuracy: 97.54 \tValidation Accuracy: 95.50\n",
            "Epoch: 24 \tTraining Loss: 0.109406 \tValidation Loss: 0.156721 \tTraining Accuracy: 96.62 \tValidation Accuracy: 95.00\n",
            "Epoch: 25 \tTraining Loss: 0.113950 \tValidation Loss: 0.140946 \tTraining Accuracy: 96.46 \tValidation Accuracy: 95.83\n",
            "Epoch: 26 \tTraining Loss: 0.152578 \tValidation Loss: 0.098253 \tTraining Accuracy: 95.04 \tValidation Accuracy: 96.67\n",
            "Validation loss decreased (0.110073 --> 0.098253).  Saving model ...\n",
            "Epoch: 27 \tTraining Loss: 0.185385 \tValidation Loss: 0.094900 \tTraining Accuracy: 94.92 \tValidation Accuracy: 97.83\n",
            "Validation loss decreased (0.098253 --> 0.094900).  Saving model ...\n",
            "Epoch: 28 \tTraining Loss: 0.066759 \tValidation Loss: 0.124655 \tTraining Accuracy: 98.21 \tValidation Accuracy: 96.00\n",
            "Epoch: 29 \tTraining Loss: 0.106635 \tValidation Loss: 0.098849 \tTraining Accuracy: 96.83 \tValidation Accuracy: 96.50\n",
            "Epoch: 30 \tTraining Loss: 0.074249 \tValidation Loss: 0.106903 \tTraining Accuracy: 97.79 \tValidation Accuracy: 96.67\n",
            "Epoch: 31 \tTraining Loss: 0.071932 \tValidation Loss: 0.218199 \tTraining Accuracy: 97.71 \tValidation Accuracy: 94.83\n",
            "Epoch: 32 \tTraining Loss: 0.080366 \tValidation Loss: 0.062832 \tTraining Accuracy: 97.38 \tValidation Accuracy: 97.67\n",
            "Validation loss decreased (0.094900 --> 0.062832).  Saving model ...\n",
            "Epoch: 33 \tTraining Loss: 0.071124 \tValidation Loss: 0.059962 \tTraining Accuracy: 98.00 \tValidation Accuracy: 98.83\n",
            "Validation loss decreased (0.062832 --> 0.059962).  Saving model ...\n",
            "Epoch: 34 \tTraining Loss: 0.065060 \tValidation Loss: 0.091986 \tTraining Accuracy: 98.25 \tValidation Accuracy: 98.00\n",
            "Epoch: 35 \tTraining Loss: 0.080105 \tValidation Loss: 0.058227 \tTraining Accuracy: 97.67 \tValidation Accuracy: 98.17\n",
            "Validation loss decreased (0.059962 --> 0.058227).  Saving model ...\n",
            "Epoch: 36 \tTraining Loss: 0.114282 \tValidation Loss: 0.102591 \tTraining Accuracy: 97.42 \tValidation Accuracy: 97.50\n",
            "Epoch: 37 \tTraining Loss: 0.077777 \tValidation Loss: 0.048908 \tTraining Accuracy: 97.67 \tValidation Accuracy: 98.83\n",
            "Validation loss decreased (0.058227 --> 0.048908).  Saving model ...\n",
            "Epoch: 38 \tTraining Loss: 0.055391 \tValidation Loss: 0.048062 \tTraining Accuracy: 98.62 \tValidation Accuracy: 98.33\n",
            "Validation loss decreased (0.048908 --> 0.048062).  Saving model ...\n",
            "Epoch: 39 \tTraining Loss: 0.084715 \tValidation Loss: 0.060510 \tTraining Accuracy: 97.92 \tValidation Accuracy: 98.00\n",
            "Epoch: 40 \tTraining Loss: 0.044819 \tValidation Loss: 0.107244 \tTraining Accuracy: 98.83 \tValidation Accuracy: 97.83\n",
            "Epoch: 41 \tTraining Loss: 0.074547 \tValidation Loss: 0.056421 \tTraining Accuracy: 97.88 \tValidation Accuracy: 98.50\n",
            "Epoch: 42 \tTraining Loss: 0.120414 \tValidation Loss: 0.047488 \tTraining Accuracy: 96.62 \tValidation Accuracy: 98.17\n",
            "Validation loss decreased (0.048062 --> 0.047488).  Saving model ...\n",
            "Epoch: 43 \tTraining Loss: 0.071762 \tValidation Loss: 0.063048 \tTraining Accuracy: 98.29 \tValidation Accuracy: 98.00\n",
            "Epoch: 44 \tTraining Loss: 0.056771 \tValidation Loss: 0.040356 \tTraining Accuracy: 98.38 \tValidation Accuracy: 99.00\n",
            "Validation loss decreased (0.047488 --> 0.040356).  Saving model ...\n",
            "Epoch: 45 \tTraining Loss: 0.092998 \tValidation Loss: 0.078349 \tTraining Accuracy: 97.21 \tValidation Accuracy: 98.00\n",
            "Epoch: 46 \tTraining Loss: 0.085549 \tValidation Loss: 0.485595 \tTraining Accuracy: 97.50 \tValidation Accuracy: 88.33\n",
            "Epoch: 47 \tTraining Loss: 0.057963 \tValidation Loss: 0.021900 \tTraining Accuracy: 97.96 \tValidation Accuracy: 99.33\n",
            "Validation loss decreased (0.040356 --> 0.021900).  Saving model ...\n",
            "Epoch: 48 \tTraining Loss: 0.071431 \tValidation Loss: 0.072337 \tTraining Accuracy: 98.50 \tValidation Accuracy: 97.17\n",
            "Epoch: 49 \tTraining Loss: 0.057797 \tValidation Loss: 0.067650 \tTraining Accuracy: 98.25 \tValidation Accuracy: 98.83\n",
            "Epoch: 50 \tTraining Loss: 0.041608 \tValidation Loss: 0.067298 \tTraining Accuracy: 98.88 \tValidation Accuracy: 98.67\n"
          ],
          "name": "stdout"
        }
      ]
    },
    {
      "cell_type": "code",
      "metadata": {
        "id": "iEoCwmAqTMZc",
        "colab_type": "code",
        "colab": {
          "base_uri": "https://localhost:8080/",
          "height": 34
        },
        "outputId": "0ff5ea72-6042-4820-81a2-9b98d8c2fbe4"
      },
      "source": [
        "# load the model that got the best validation accuracy\n",
        "model_scratch.load_state_dict(torch.load('model_scratch.pt'))"
      ],
      "execution_count": 68,
      "outputs": [
        {
          "output_type": "execute_result",
          "data": {
            "text/plain": [
              "<All keys matched successfully>"
            ]
          },
          "metadata": {
            "tags": []
          },
          "execution_count": 68
        }
      ]
    },
    {
      "cell_type": "code",
      "metadata": {
        "id": "emW71w0eTT5Z",
        "colab_type": "code",
        "colab": {}
      },
      "source": [
        "df = pd.read_csv('Test.csv')\n",
        "df['Category'] = df['Filename'].apply(predict_age_group)\n",
        "df['Category'] = df['Category'].map({'adults':'Adults', 'toddlers':'Toddelers', 'teenagers':'Teenagers'})\n",
        "df.to_csv('Submission4.csv', index=False)"
      ],
      "execution_count": 69,
      "outputs": []
    },
    {
      "cell_type": "code",
      "metadata": {
        "id": "-fVVqM79wFL-",
        "colab_type": "code",
        "colab": {}
      },
      "source": [
        "!cp \"/content/model_scratch.pt\" -r \"/content/drive/My Drive/\""
      ],
      "execution_count": 71,
      "outputs": []
    },
    {
      "cell_type": "code",
      "metadata": {
        "id": "Y-kqCzp83trW",
        "colab_type": "code",
        "colab": {}
      },
      "source": [
        "!cp \"/content/model_transfer.pt\" -r \"/content/drive/My Drive/\""
      ],
      "execution_count": 72,
      "outputs": []
    },
    {
      "cell_type": "code",
      "metadata": {
        "id": "KwqsI_aF4C1F",
        "colab_type": "code",
        "colab": {}
      },
      "source": [
        "!cp \"/content/model_transfer2.pt\" -r \"/content/drive/My Drive/\""
      ],
      "execution_count": 73,
      "outputs": []
    },
    {
      "cell_type": "code",
      "metadata": {
        "id": "tft7pvT74Ff8",
        "colab_type": "code",
        "colab": {}
      },
      "source": [
        ""
      ],
      "execution_count": null,
      "outputs": []
    }
  ]
}